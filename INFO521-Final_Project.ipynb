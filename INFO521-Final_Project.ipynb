{
 "cells": [
  {
   "cell_type": "markdown",
   "metadata": {},
   "source": [
    "## Multinomial Classification of Grammatical Structuresin English according to CEFR\n",
    "\n",
    "Please make sure that utils.py file exist in the same directory."
   ]
  },
  {
   "cell_type": "code",
   "execution_count": 1,
   "metadata": {},
   "outputs": [],
   "source": [
    "import pandas as pd\n",
    "import nltk\n",
    "import numpy as np\n",
    "import matplotlib.pyplot as plt\n",
    "from sklearn.model_selection import train_test_split\n",
    "from sklearn.feature_extraction.text import CountVectorizer, TfidfVectorizer\n",
    "# from sklearn.feature_extraction.text import \n",
    "from sklearn.pipeline import Pipeline\n",
    "from sklearn.metrics import confusion_matrix, accuracy_score, classification_report\n",
    "from sklearn.linear_model import LogisticRegression\n",
    "from sklearn.dummy import DummyClassifier\n",
    "from sklearn.model_selection import GridSearchCV\n",
    "from sklearn.model_selection import cross_validate\n",
    "import re\n",
    "from utils import *"
   ]
  },
  {
   "cell_type": "code",
   "execution_count": 2,
   "metadata": {},
   "outputs": [
    {
     "data": {
      "text/html": [
       "<div>\n",
       "<style scoped>\n",
       "    .dataframe tbody tr th:only-of-type {\n",
       "        vertical-align: middle;\n",
       "    }\n",
       "\n",
       "    .dataframe tbody tr th {\n",
       "        vertical-align: top;\n",
       "    }\n",
       "\n",
       "    .dataframe thead th {\n",
       "        text-align: right;\n",
       "    }\n",
       "</style>\n",
       "<table border=\"1\" class=\"dataframe\">\n",
       "  <thead>\n",
       "    <tr style=\"text-align: right;\">\n",
       "      <th></th>\n",
       "      <th>Sentence</th>\n",
       "      <th>Level</th>\n",
       "    </tr>\n",
       "  </thead>\n",
       "  <tbody>\n",
       "    <tr>\n",
       "      <th>0</th>\n",
       "      <td>The teachers are very nice and friendly .</td>\n",
       "      <td>A</td>\n",
       "    </tr>\n",
       "    <tr>\n",
       "      <th>1</th>\n",
       "      <td>I like my house because it is big and comforta...</td>\n",
       "      <td>A</td>\n",
       "    </tr>\n",
       "    <tr>\n",
       "      <th>2</th>\n",
       "      <td>You can buy Turkish and English products as we...</td>\n",
       "      <td>A</td>\n",
       "    </tr>\n",
       "    <tr>\n",
       "      <th>3</th>\n",
       "      <td>The weather was cloudy but fine.</td>\n",
       "      <td>A</td>\n",
       "    </tr>\n",
       "    <tr>\n",
       "      <th>4</th>\n",
       "      <td>It was cheap but beautiful.</td>\n",
       "      <td>A</td>\n",
       "    </tr>\n",
       "  </tbody>\n",
       "</table>\n",
       "</div>"
      ],
      "text/plain": [
       "                                            Sentence Level\n",
       "0         The teachers are very nice and friendly .      A\n",
       "1  I like my house because it is big and comforta...     A\n",
       "2  You can buy Turkish and English products as we...     A\n",
       "3                  The weather was cloudy but fine.      A\n",
       "4                       It was cheap but beautiful.      A"
      ]
     },
     "execution_count": 2,
     "metadata": {},
     "output_type": "execute_result"
    }
   ],
   "source": [
    "# importing datset with merged categories\n",
    "english_profile = pd.read_csv('./merged_labels_fixed.csv', sep='\\t', index_col=0)\n",
    "english_profile.head()"
   ]
  },
  {
   "cell_type": "code",
   "execution_count": 4,
   "metadata": {},
   "outputs": [],
   "source": [
    "def trainer(english_profile, vec='count', classifier='lr', feature='words', binarize=True, class_w=True, res=True):\n",
    "    '''\n",
    "    Input: pandas dataframe of sentences and labels\n",
    "    Param: \n",
    "        vect: count = 'Bag-of-words' word vectorization model\n",
    "              tfidf = tfidf\n",
    "        classifier = 'dummy' for random classifier or 'lr' logisitic regression\n",
    "        \n",
    "        feature: words = tokenized word, mixed = sentence with some of their words replaced with POS tags (masked)\n",
    "        ######## the 3 param. below are used to make the function usable in both phases.\n",
    "        binarize: forces datatype of label to be integer. \n",
    "        class_w: applies weight to certain gold_label classes to avoid data imbalance\n",
    "        res: show plots\n",
    "    '''\n",
    "    \n",
    "    #tokenizing the sentences in the dataframe\n",
    "    english_profile['tokens'] = english_profile.Sentence.apply(posify, args=(feature,))\n",
    "    #Applying Bag-of-Words Model of 1-gram, 2-gram, 3-gram\n",
    "    if vec == 'count':\n",
    "        vectorizer = CountVectorizer(lowercase=False, ngram_range=(1, 3))\n",
    "    if vec == 'tfidf':\n",
    "        vectorizer = TfidfVectorizer(lowercase=False, ngram_range=(1, 3))\n",
    "\n",
    "    mat = vectorizer.fit_transform(english_profile['tokens'])\n",
    "    # binarize gold label\n",
    "    if binarize:\n",
    "        english_profile['label'] = english_profile.Level.apply(convert)\n",
    "    else:\n",
    "        english_profile['label'] = english_profile['label'].apply(lambda x:int(x))\n",
    "    # spliting data into training and test\n",
    "    X_train, X_test, y_train, y_test = train_test_split(mat, english_profile['label'] , test_size=0.33, random_state=42)\n",
    "    # fitting logisitc regression model\n",
    "    if classifier=='dummy':\n",
    "        mul_lr = DummyClassifier()\n",
    "    if classifier=='lr':\n",
    "        if class_w:\n",
    "            mul_lr = LogisticRegression(multi_class='multinomial', \\\n",
    "                                                 solver='newton-cg',n_jobs=-1, random_state=42,\\\n",
    "                                                 class_weight={1:0.1,2:0.1,3:0.8})\n",
    "        else:\n",
    "            mul_lr = LogisticRegression(multi_class='multinomial', \\\n",
    "                                                 solver='newton-cg',n_jobs=-1, random_state=42)\n",
    "\n",
    "    mul_lr.fit(X_train, y_train)\n",
    "    if res:\n",
    "        print(\"Test Accuracy of % Train : \".format(classifier), accuracy_score(y_train, mul_lr.predict(X_train)))\n",
    "        print(\"Test Accuracy of % Train : \".format(classifier), accuracy_score(y_test, mul_lr.predict(X_test)))\n",
    "        print(classification_report(y_test, mul_lr.predict(X_test)))\n",
    "        cnf_matrix = confusion_matrix(y_test, mul_lr.predict(X_test))\n",
    "        np.set_printoptions(precision=2)\n",
    "        # Plot normalized confusion matrix\n",
    "        plt.figure()\n",
    "        plot_confusion_matrix(cnf_matrix, classes=['A',\"B\",\"C\"], normalize=True,\n",
    "                          title='Normalized confusion matrix')\n",
    "\n",
    "        plt.show()\n",
    "    return vectorizer, mul_lr\n"
   ]
  },
  {
   "cell_type": "code",
   "execution_count": 5,
   "metadata": {},
   "outputs": [
    {
     "name": "stdout",
     "output_type": "stream",
     "text": [
      "Test Accuracy of % Train :  0.9884393063583815\n",
      "Test Accuracy of % Train :  0.694048616932104\n",
      "             precision    recall  f1-score   support\n",
      "\n",
      "          1       0.71      0.78      0.74       371\n",
      "          2       0.74      0.64      0.69       607\n",
      "          3       0.57      0.70      0.63       215\n",
      "\n",
      "avg / total       0.70      0.69      0.69      1193\n",
      "\n",
      "Normalized confusion matrix\n",
      "[[0.78 0.21 0.02]\n",
      " [0.18 0.64 0.17]\n",
      " [0.03 0.27 0.7 ]]\n"
     ]
    },
    {
     "data": {
      "image/png": "[encoded data removed]",
      "text/plain": [
       "<Figure size 432x288 with 2 Axes>"
      ]
     },
     "metadata": {
      "needs_background": "light"
     },
     "output_type": "display_data"
    },
    {
     "data": {
      "text/plain": [
       "(CountVectorizer(analyzer='word', binary=False, decode_error='strict',\n",
       "         dtype=<class 'numpy.int64'>, encoding='utf-8', input='content',\n",
       "         lowercase=False, max_df=1.0, max_features=None, min_df=1,\n",
       "         ngram_range=(1, 3), preprocessor=None, stop_words=None,\n",
       "         strip_accents=None, token_pattern='(?u)\\\\b\\\\w\\\\w+\\\\b',\n",
       "         tokenizer=None, vocabulary=None),\n",
       " LogisticRegression(C=1.0, class_weight={1: 0.1, 2: 0.1, 3: 0.8}, dual=False,\n",
       "           fit_intercept=True, intercept_scaling=1, max_iter=100,\n",
       "           multi_class='multinomial', n_jobs=-1, penalty='l2',\n",
       "           random_state=42, solver='newton-cg', tol=0.0001, verbose=0,\n",
       "           warm_start=False))"
      ]
     },
     "execution_count": 5,
     "metadata": {},
     "output_type": "execute_result"
    }
   ],
   "source": [
    "trainer(english_profile, vec='count', classifier='lr', feature='words', binarize=True)"
   ]
  },
  {
   "cell_type": "code",
   "execution_count": 6,
   "metadata": {},
   "outputs": [
    {
     "data": {
      "image/png": "[encoded data removed]",
      "text/plain": [
       "<Figure size 432x288 with 1 Axes>"
      ]
     },
     "metadata": {
      "needs_background": "light"
     },
     "output_type": "display_data"
    }
   ],
   "source": [
    "# projecting using K-means and PCA\n",
    "project(english_profile.Sentence,3)"
   ]
  },
  {
   "cell_type": "code",
   "execution_count": 7,
   "metadata": {},
   "outputs": [],
   "source": [
    "# loading the unlabelled corpus\n",
    "with open(\"brown_corpus.txt\") as file:\n",
    "    txt_file = file.read()\n",
    "\n",
    "# removing weird encoding characters\n",
    "cleaned = re.sub('_.+?_|#.+|\\n', '', txt_file)\n",
    "\n",
    "# tokenize sentences\n",
    "sents = nltk.tokenize.sent_tokenize(cleaned)\n",
    "\n",
    "# tokenize words within each sentences. flag can take: words or mixed.\n",
    "sents_posified = [posify(s, flag='words') for s in sents if len(s.split(' ')) < 30] \n"
   ]
  },
  {
   "cell_type": "code",
   "execution_count": 12,
   "metadata": {},
   "outputs": [
    {
     "data": {
      "text/plain": [
       "38590"
      ]
     },
     "execution_count": 12,
     "metadata": {},
     "output_type": "execute_result"
    }
   ],
   "source": [
    "len(sents_posified)"
   ]
  },
  {
   "cell_type": "code",
   "execution_count": 31,
   "metadata": {},
   "outputs": [],
   "source": [
    "# res is set to false because I don't to show plots. I only need to the vectorizer to transform my data for prediction. \n",
    "# Similarly, I need the classifier object to make inferences on the unlabelled data.\n",
    "vectorizer, mul_lr = trainer(english_profile, vec='count', classifier='lr', \\\n",
    "                             feature='words', binarize=True, res=False)\n",
    "\n",
    "#transforming my new data to match the dimensions of BoW matrix\n",
    "brown_corpus = vectorizer.transform(sents_posified)\n",
    "\n",
    "# create new dataframe to contain the sentences from the unlabelled sentences, and their predicted label.\n",
    "corpus_df = pd.DataFrame([sents_posified, mul_lr.predict(brown_corpus).tolist()]).transpose()\n",
    "\n",
    "# I also use the LR classifier to output the classification probability of each predicted label \n",
    "# and use them as confidance score.\n",
    "corpus_df['confidence'] = mul_lr.predict_proba(brown_corpus).tolist()\n",
    "\n",
    "indivd_conf_score = list()\n",
    "idx = corpus_df[1].tolist()\n",
    "for i,j in enumerate(corpus_df.confidence):\n",
    "    indivd_conf_score.append(j[idx[i]-1])\n",
    "\n",
    "corpus_df['conf_score'] = indivd_conf_score\n",
    "\n",
    "# filtering out low-prob scores\n",
    "filtered_df = corpus_df.loc[corpus_df['conf_score'] > 0.9]\n",
    "\n",
    "d1 = pd.DataFrame(english_profile[['Sentence','label']], columns=['Sentence','label'])\n",
    "d2 = pd.DataFrame(filtered_df[[0,1]])\n",
    "d2.columns = ['Sentence','label']\n",
    "\n",
    "combined_dataset = d1.append(d2)"
   ]
  },
  {
   "cell_type": "code",
   "execution_count": 36,
   "metadata": {},
   "outputs": [
    {
     "data": {
      "text/html": [
       "<div>\n",
       "<style scoped>\n",
       "    .dataframe tbody tr th:only-of-type {\n",
       "        vertical-align: middle;\n",
       "    }\n",
       "\n",
       "    .dataframe tbody tr th {\n",
       "        vertical-align: top;\n",
       "    }\n",
       "\n",
       "    .dataframe thead th {\n",
       "        text-align: right;\n",
       "    }\n",
       "</style>\n",
       "<table border=\"1\" class=\"dataframe\">\n",
       "  <thead>\n",
       "    <tr style=\"text-align: right;\">\n",
       "      <th></th>\n",
       "      <th>Sentence</th>\n",
       "      <th>label</th>\n",
       "    </tr>\n",
       "  </thead>\n",
       "  <tbody>\n",
       "    <tr>\n",
       "      <th>0</th>\n",
       "      <td>The teachers are very nice and friendly .</td>\n",
       "      <td>1</td>\n",
       "    </tr>\n",
       "    <tr>\n",
       "      <th>1</th>\n",
       "      <td>I like my house because it is big and comforta...</td>\n",
       "      <td>1</td>\n",
       "    </tr>\n",
       "    <tr>\n",
       "      <th>2</th>\n",
       "      <td>You can buy Turkish and English products as we...</td>\n",
       "      <td>1</td>\n",
       "    </tr>\n",
       "    <tr>\n",
       "      <th>3</th>\n",
       "      <td>The weather was cloudy but fine.</td>\n",
       "      <td>1</td>\n",
       "    </tr>\n",
       "    <tr>\n",
       "      <th>4</th>\n",
       "      <td>It was cheap but beautiful.</td>\n",
       "      <td>1</td>\n",
       "    </tr>\n",
       "  </tbody>\n",
       "</table>\n",
       "</div>"
      ],
      "text/plain": [
       "                                            Sentence label\n",
       "0         The teachers are very nice and friendly .      1\n",
       "1  I like my house because it is big and comforta...     1\n",
       "2  You can buy Turkish and English products as we...     1\n",
       "3                  The weather was cloudy but fine.      1\n",
       "4                       It was cheap but beautiful.      1"
      ]
     },
     "execution_count": 36,
     "metadata": {},
     "output_type": "execute_result"
    }
   ],
   "source": [
    "# this data set is a combination of my original dataset + 1000-ish sentences predicted from \n",
    "#the unlabelled corpus with prob. > 0.9\n",
    "combined_dataset.head()"
   ]
  },
  {
   "cell_type": "code",
   "execution_count": 20,
   "metadata": {},
   "outputs": [
    {
     "name": "stdout",
     "output_type": "stream",
     "text": [
      "Test Accuracy of % Train :  0.9997039668442865\n",
      "Test Accuracy of % Train :  0.7903903903903904\n",
      "             precision    recall  f1-score   support\n",
      "\n",
      "          1       0.72      0.79      0.76       392\n",
      "          2       0.71      0.74      0.72       594\n",
      "          3       0.92      0.83      0.87       679\n",
      "\n",
      "avg / total       0.80      0.79      0.79      1665\n",
      "\n",
      "Normalized confusion matrix\n",
      "[[0.79 0.2  0.01]\n",
      " [0.18 0.74 0.08]\n",
      " [0.02 0.15 0.83]]\n"
     ]
    },
    {
     "data": {
      "image/png": "[encoded data removed]",
      "text/plain": [
       "<Figure size 432x288 with 2 Axes>"
      ]
     },
     "metadata": {
      "needs_background": "light"
     },
     "output_type": "display_data"
    },
    {
     "data": {
      "text/plain": [
       "(CountVectorizer(analyzer='word', binary=False, decode_error='strict',\n",
       "         dtype=<class 'numpy.int64'>, encoding='utf-8', input='content',\n",
       "         lowercase=False, max_df=1.0, max_features=None, min_df=1,\n",
       "         ngram_range=(1, 3), preprocessor=None, stop_words=None,\n",
       "         strip_accents=None, token_pattern='(?u)\\\\b\\\\w\\\\w+\\\\b',\n",
       "         tokenizer=None, vocabulary=None),\n",
       " LogisticRegression(C=1.0, class_weight=None, dual=False, fit_intercept=True,\n",
       "           intercept_scaling=1, max_iter=100, multi_class='multinomial',\n",
       "           n_jobs=-1, penalty='l2', random_state=42, solver='newton-cg',\n",
       "           tol=0.0001, verbose=0, warm_start=False))"
      ]
     },
     "execution_count": 20,
     "metadata": {},
     "output_type": "execute_result"
    }
   ],
   "source": [
    "# training a TOTALLY NEW logisitic regression classifier on the combined (augmented) dataset\n",
    "# Please note that this is a new training process. The function, defined above, has its own vectorization \\\n",
    "# methods as well as training and testing\n",
    "trainer(combined_dataset, vec='count', classifier='lr', feature='words',binarize=False, class_w=False)"
   ]
  },
  {
   "cell_type": "code",
   "execution_count": null,
   "metadata": {},
   "outputs": [],
   "source": []
  }
 ],
 "metadata": {
  "kernelspec": {
   "display_name": "Python 3",
   "language": "python",
   "name": "python3"
  },
  "language_info": {
   "codemirror_mode": {
    "name": "ipython",
    "version": 3
   },
   "file_extension": ".py",
   "mimetype": "text/x-python",
   "name": "python",
   "nbconvert_exporter": "python",
   "pygments_lexer": "ipython3",
   "version": "3.6.6"
  }
 },
 "nbformat": 4,
 "nbformat_minor": 2
}
